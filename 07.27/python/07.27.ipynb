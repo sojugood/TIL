{
 "cells": [
  {
   "cell_type": "code",
   "execution_count": 3,
   "metadata": {},
   "outputs": [
    {
     "name": "stdout",
     "output_type": "stream",
     "text": [
      "부모 클래스의 func1 메서드 실행\n",
      "자식 클래스의 func2 메서드 실행\n",
      "10\n"
     ]
    }
   ],
   "source": [
    "class Robot:\n",
    "    def func1(self):\n",
    "        print(\"부모 클래스의 func1 메서드 실행\")\n",
    "        self.money = 100\n",
    "\n",
    "class Study_bot1(Robot):\n",
    "    def func2(self):\n",
    "        print(\"자식 클래스의 func2 메서드 실행\")\n",
    "        self.book = 10\n",
    "\n",
    "class Study_bot2(Robot):\n",
    "    def func2(self):\n",
    "        print(\"자식 클래스의 func3 메서드 실행\")\n",
    "        self.book = 20\n",
    "\n",
    "class Study_bot3(Study_bot1, Study_bot2):\n",
    "    def func4(self):\n",
    "        print(\"자식 클래스의 func4 메서드 실행\")\n",
    "        self.water = 5\n",
    "bot1 = Study_bot3()\n",
    "bot1.func1() # 부모 함수를 실행해야 부모의 속성도 가져오게 된다.\n",
    "bot1.func2()\n",
    "print(bot1.book)\n"
   ]
  },
  {
   "cell_type": "code",
   "execution_count": 7,
   "metadata": {},
   "outputs": [
    {
     "name": "stdout",
     "output_type": "stream",
     "text": [
      "부모 클래스의 func1 메서드 실행\n"
     ]
    }
   ],
   "source": [
    "class Robot:\n",
    "    def func1():\n",
    "        return \"부모 클래스의 func1 메서드 실행\"\n",
    "\n",
    "print(Robot.func1())"
   ]
  }
 ],
 "metadata": {
  "kernelspec": {
   "display_name": "Python 3",
   "language": "python",
   "name": "python3"
  },
  "language_info": {
   "codemirror_mode": {
    "name": "ipython",
    "version": 3
   },
   "file_extension": ".py",
   "mimetype": "text/x-python",
   "name": "python",
   "nbconvert_exporter": "python",
   "pygments_lexer": "ipython3",
   "version": "3.9.13"
  },
  "orig_nbformat": 4
 },
 "nbformat": 4,
 "nbformat_minor": 2
}
