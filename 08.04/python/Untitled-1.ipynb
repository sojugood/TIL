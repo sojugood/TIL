{
 "cells": [
  {
   "cell_type": "code",
   "execution_count": 6,
   "metadata": {},
   "outputs": [
    {
     "name": "stdout",
     "output_type": "stream",
     "text": [
      "3\n"
     ]
    }
   ],
   "source": [
    "T = int(input())\n",
    "\n",
    "for _ in range(T):\n",
    "    N, M = map(int, input().split())\n",
    "    queue = list(map(int, input().split()))\n",
    "    count = 1\n",
    "    temp = 0\n",
    "    for i in range(0, M):\n",
    "        if queue[i] == queue[M]:\n",
    "            temp += 1\n",
    "        elif queue[i] > queue[M]:\n",
    "            temp = 0\n",
    "            count += 1\n",
    "    count += temp\n",
    "    temp2 = 0\n",
    "    check = 0\n",
    "    for j in range(M + 1, N):\n",
    "        if queue[j] == queue[M]:\n",
    "            temp2 += 1\n",
    "        elif queue[j] > queue[M]:\n",
    "            temp2 = 0\n",
    "            count += 1\n",
    "            check += 1\n",
    "    if check == 0:\n",
    "        temp2 = 0\n",
    "    count += temp2\n",
    "    print(count)"
   ]
  },
  {
   "cell_type": "code",
   "execution_count": 7,
   "metadata": {},
   "outputs": [
    {
     "data": {
      "text/plain": [
       "-1"
      ]
     },
     "execution_count": 7,
     "metadata": {},
     "output_type": "execute_result"
    }
   ],
   "source": [
    "int(-1.8)"
   ]
  },
  {
   "cell_type": "code",
   "execution_count": 4,
   "metadata": {},
   "outputs": [
    {
     "data": {
      "text/plain": [
       "[-1, -2, -3]"
      ]
     },
     "execution_count": 4,
     "metadata": {},
     "output_type": "execute_result"
    }
   ],
   "source": [
    "a = [-1, -2, -3]\n",
    "a.sort(reverse=True)\n",
    "a"
   ]
  },
  {
   "cell_type": "code",
   "execution_count": null,
   "metadata": {},
   "outputs": [],
   "source": [
    "    for i in range(N):\n",
    "        for j in range(N):\n",
    "            for k in range(i, N):\n",
    "                for l in range(j, N):\n",
    "                    if arr[i][j] == arr[k][l]:\n",
    "                        size = (k - i + 1) * (l - j + 1)"
   ]
  },
  {
   "cell_type": "code",
   "execution_count": null,
   "metadata": {},
   "outputs": [],
   "source": [
    "T = int(input())\n",
    "\n",
    "for tc in range(1, T + 1):\n",
    "    N = int(input())\n",
    "    arr = [list(map(int, input().split())) for _ in range(N)]\n",
    "    max_size = 0\n",
    "    count = 0\n",
    "    for i in range(N):\n",
    "        for j in range(N):\n",
    "            for k in range(i, N):\n",
    "                potential_size = (N - i) * (N - j)  # 최대 가능한 크기 계산\n",
    "                if potential_size < max_size:\n",
    "                    break\n",
    "                for l in range(j, N):\n",
    "                    if arr[i][j] == arr[k][l]:\n",
    "                        size = (k - i + 1) * (l - j + 1)\n",
    "                        if size > max_size:\n",
    "                            max_size = size\n",
    "                            count = 1\n",
    "                        elif size == max_size:\n",
    "                            count += 1\n",
    "    print(f\"#{tc} {count}\")\n"
   ]
  },
  {
   "cell_type": "code",
   "execution_count": 1,
   "metadata": {},
   "outputs": [
    {
     "name": "stdout",
     "output_type": "stream",
     "text": [
      "[4, 3, 2, 1]\n"
     ]
    }
   ],
   "source": [
    "d = [1, 2, 3, 4][::-1]\n",
    "\n",
    "print(d)"
   ]
  },
  {
   "cell_type": "code",
   "execution_count": null,
   "metadata": {},
   "outputs": [],
   "source": [
    "a =input\n",
    "for t in range(int(a())): D,A,B,F=map(int,a().split()); print(f\"#{t+1} {D*F/(A+B)}\")"
   ]
  },
  {
   "cell_type": "code",
   "execution_count": null,
   "metadata": {},
   "outputs": [],
   "source": [
    "T = int(input())\n",
    "\n",
    "for tc in range(1, T + 1):\n",
    "    N, K = map(int,input().split())\n",
    "    Sample = list(map(int,input().split()))\n",
    "    PassCode = list(map(int,input().split()))\n",
    "    i = 0\n",
    "    count = 0\n",
    "    for _ in range(K):\n",
    "        while i < N:\n",
    "            if PassCode[_] == Sample[i]:\n",
    "                i += 1\n",
    "                count += 1\n",
    "                break\n",
    "            else:\n",
    "                i += 1\n",
    "    if count == K:\n",
    "        print(f\"#{tc} 1\")\n",
    "    else:\n",
    "        print(f\"#{tc} 0\")"
   ]
  }
 ],
 "metadata": {
  "kernelspec": {
   "display_name": "Python 3",
   "language": "python",
   "name": "python3"
  },
  "language_info": {
   "codemirror_mode": {
    "name": "ipython",
    "version": 3
   },
   "file_extension": ".py",
   "mimetype": "text/x-python",
   "name": "python",
   "nbconvert_exporter": "python",
   "pygments_lexer": "ipython3",
   "version": "3.9.13"
  },
  "orig_nbformat": 4
 },
 "nbformat": 4,
 "nbformat_minor": 2
}
