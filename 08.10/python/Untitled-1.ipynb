{
 "cells": [
  {
   "cell_type": "code",
   "execution_count": null,
   "metadata": {},
   "outputs": [],
   "source": [
    "T = int(input())\n",
    "for tc in range(1, T + 1):\n",
    "    N = int(input()) // 10 # N은 바닥의 길이를 의미함. 편의상 10으로 나누어 생각하자\n",
    "\n",
    "    dp = [0] * (N+1) # 종이를 붙일 바닥의 길이를 리스트로 정의하자(인덱스 번호가 길이에 해당함, 인덱스 0은 무시하고 1부터 시작 -> 입력받은 길이 N의 인덱스까지 생성하기 위해 N+1을 곱해줌)\n",
    "\n",
    "    # 문제에서 종이는 바닥의 길이가 1 또는 2인 종이1과 종이2가 있다고 하였음.\n",
    "\n",
    "    dp[1] = 1 # 종이를 붙일 바닥의 길이가 1일 경우에는 종이1이 한 번 들어간다.\n",
    "    dp[2] = 3 # 종이를 붙일 바닥의 길이가 2일 경우에는 종이1 2개가 세로 혹은 가로로 각 한 번 들어가거나 종이2가 한 번 들어간다. 총 3가지 경우\n",
    "\n",
    "    # 이제 바닥의 길이가 3일 경우(N = 3)를 생각해보자. 종이의 종류는 종이1과 종이2만 존재한다.\n",
    "    # 그러니 바닥의 마지막 부분을 채울 길이가 1일 때와 2일 때를 고려하자. 마지막 부분의 길이가 1이라면 종이 1만 들어갈 수 있고, 앞에 붙여진 종이의 길이는 2이며 이는 바닥의 길이가 2(N = 2)였을 때의 경우의 수를 따를 것이다. 즉 dp[2]와 동일하다.\n",
    "    # 마지막 부분의 길이가 2라면, 이번엔 앞에 붙여진 종이의 길이가 1이라 한 가지 경우밖에 없다고 생각할 수 있지만, 마지막 부분의 길이가 2라는 말은 해당 부분에 종이가 어떻게 붙여질 지를 따져보아야 한다. 종이2가 그대로 붙여질 수도 있지만 종이1을 가로로 눕힌 2개를 쌓아 붙일 수도 있다. 주의할 점은 종이1을 세로로 2개 붙인 경우는 이미 앞선 종이1을 붙일 때 고려되었던 사항이라 중복이므로 무시한다. 결국 마지막 부분의 길이가 2라면 경우의 수는 2이고 이는 dp[1]의 2배에 해당한다.\n",
    "    # 우리는 지금 N = 3일 때 경우의 수가 5임을 알게 되었고, N = 4의 경우의 수를 따져보기 위해 위 과정을 반복해보면 아래와 같은 공식이 나온다는 것을 알게 될 것이다.\n",
    "    # dp[n] = dp[n-1] + dp[n-2] * 2\n",
    "    \n",
    "    for i in range(3, N+1):\n",
    "        dp[i] = dp[i-1] + 2*dp[i-2]\n",
    "    print(f\"#{tc} {dp[N]}\")\n"
   ]
  },
  {
   "cell_type": "code",
   "execution_count": null,
   "metadata": {},
   "outputs": [],
   "source": [
    "a,b=int,input\n",
    "for t in range(a(b())):\n",
    "  N=a(b())//10;d,d[1],d[2]=[0]*(N+1),1,3\n",
    "  for i in range(3,N+1):d[i]=d[i-1]+2*d[i-2]\n",
    "  print(f\"#{t+1}\",d[N])"
   ]
  },
  {
   "cell_type": "code",
   "execution_count": null,
   "metadata": {},
   "outputs": [],
   "source": [
    "a,b=int,input\n",
    "for t in range(a(b())):\n",
    "    N,d=a(b())//10,[0,1,3]+[0]*(a(b())//10-2)\n",
    "    for i in range(3,N+1):d[i]=d[i-1]+2*d[i-2]\n",
    "    print(f\"#{t+1}\",d[N])\n"
   ]
  },
  {
   "cell_type": "code",
   "execution_count": null,
   "metadata": {},
   "outputs": [],
   "source": [
    "a,b=int,input\n",
    "for t in range(a(b())):\n",
    "    N,d=a(b())//10,[0,1,3]+[0]*(a(b())//10-2)\n",
    "    for i in range(3,N+1):d[i]=d[i-1]+2*d[i-2]\n",
    "    print(f\"#{t+1} {d[N]}\")"
   ]
  }
 ],
 "metadata": {
  "kernelspec": {
   "display_name": "Python 3",
   "language": "python",
   "name": "python3"
  },
  "language_info": {
   "codemirror_mode": {
    "name": "ipython",
    "version": 3
   },
   "file_extension": ".py",
   "mimetype": "text/x-python",
   "name": "python",
   "nbconvert_exporter": "python",
   "pygments_lexer": "ipython3",
   "version": "3.11.4"
  },
  "orig_nbformat": 4
 },
 "nbformat": 4,
 "nbformat_minor": 2
}
