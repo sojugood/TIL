{
 "cells": [
  {
   "cell_type": "code",
   "execution_count": 12,
   "metadata": {},
   "outputs": [
    {
     "data": {
      "text/plain": [
       "[1, 3, 5]"
      ]
     },
     "execution_count": 12,
     "metadata": {},
     "output_type": "execute_result"
    }
   ],
   "source": [
    "prime = [3, 7, 11]\n",
    "prime.append(5)\n",
    "prime.sort()\n",
    "prime.insert(0, 2)\n",
    "del prime[4]\n",
    "a = prime.pop()\n",
    "prime[0] = 1\n",
    "prime"
   ]
  },
  {
   "cell_type": "code",
   "execution_count": 18,
   "metadata": {},
   "outputs": [
    {
     "name": "stdout",
     "output_type": "stream",
     "text": [
      "['B', 'e', ' ', 'h', 'a', 'p', 'p', 'y', '!']\n"
     ]
    }
   ],
   "source": [
    "characters = []\n",
    "sentence = 'Be happy!'\n",
    "for char in sentence:\n",
    "    characters.append(char)\n",
    "\n",
    "print(characters)"
   ]
  },
  {
   "cell_type": "code",
   "execution_count": 24,
   "metadata": {},
   "outputs": [
    {
     "ename": "TypeError",
     "evalue": "int() argument must be a string, a bytes-like object or a number, not 'list'",
     "output_type": "error",
     "traceback": [
      "\u001b[1;31m---------------------------------------------------------------------------\u001b[0m",
      "\u001b[1;31mTypeError\u001b[0m                                 Traceback (most recent call last)",
      "Cell \u001b[1;32mIn[24], line 2\u001b[0m\n\u001b[0;32m      1\u001b[0m a \u001b[39m=\u001b[39m \u001b[39mlist\u001b[39m(\u001b[39m'\u001b[39m\u001b[39m123\u001b[39m\u001b[39m'\u001b[39m)\n\u001b[1;32m----> 2\u001b[0m \u001b[39mint\u001b[39;49m(a)\n\u001b[0;32m      3\u001b[0m \u001b[39mprint\u001b[39m(a)\n",
      "\u001b[1;31mTypeError\u001b[0m: int() argument must be a string, a bytes-like object or a number, not 'list'"
     ]
    }
   ],
   "source": [
    "a = list('123')\n",
    "int(a)\n",
    "print(a)"
   ]
  },
  {
   "cell_type": "code",
   "execution_count": 29,
   "metadata": {},
   "outputs": [
    {
     "data": {
      "text/plain": [
       "123"
      ]
     },
     "execution_count": 29,
     "metadata": {},
     "output_type": "execute_result"
    }
   ],
   "source": [
    "my_int = 123\n",
    "my_str = str(my_int)\n",
    "int(my_str)"
   ]
  },
  {
   "cell_type": "code",
   "execution_count": 7,
   "metadata": {},
   "outputs": [
    {
     "data": {
      "text/plain": [
       "55"
      ]
     },
     "execution_count": 7,
     "metadata": {},
     "output_type": "execute_result"
    }
   ],
   "source": [
    "one_to_ten = list(range(1, 11))\n",
    "sum(one_to_ten)"
   ]
  },
  {
   "cell_type": "code",
   "execution_count": 9,
   "metadata": {},
   "outputs": [
    {
     "name": "stdout",
     "output_type": "stream",
     "text": [
      "[90, 85, 70] 245 81.66666666666667\n",
      "[88, 79, 92] 259 86.33333333333333\n",
      "[100, 100, 100] 300 100.0\n",
      "[90, 60, 70] 220 73.33333333333333\n"
     ]
    }
   ],
   "source": [
    "chulsu = [90, 85, 70]\n",
    "younghee = [88, 79, 92]\n",
    "yong = [100, 100, 100]\n",
    "minsu = [90, 60, 70]\n",
    "students = [chulsu, younghee, yong, minsu]\n",
    "\n",
    "for scores in students:\n",
    "    total = 0\n",
    "    for s in scores:\n",
    "        total += s\n",
    "    average = total / 3\n",
    "    print(scores, total, average)"
   ]
  },
  {
   "cell_type": "code",
   "execution_count": 34,
   "metadata": {},
   "outputs": [
    {
     "name": "stdout",
     "output_type": "stream",
     "text": [
      "21\n"
     ]
    }
   ],
   "source": [
    "n = input()\n",
    "\n",
    "def sumOfDigits(n):\n",
    "    a = list(n)\n",
    "    b = list(map(int, a))\n",
    "    return sum(b)\n",
    "\n",
    "print(sumOfDigits(n))"
   ]
  },
  {
   "cell_type": "code",
   "execution_count": 37,
   "metadata": {},
   "outputs": [
    {
     "data": {
      "text/plain": [
       "[[0, 0, 2, 4, 7, 7, 9], [11, 11, 13, 18], [20]]"
      ]
     },
     "execution_count": 37,
     "metadata": {},
     "output_type": "execute_result"
    }
   ],
   "source": [
    "score = [[0, 0, 2, 4, 7, 7, 9]]\n",
    "score += [[11, 11, 13, 18]]\n",
    "score += [[20]]\n",
    "score"
   ]
  },
  {
   "cell_type": "code",
   "execution_count": null,
   "metadata": {},
   "outputs": [],
   "source": [
    "n = int(input())\n",
    "\n",
    "for i in range(1,n+1):\n",
    "    j = map(int, input().split())\n",
    "    sorted_j = sorted(j)  # 배열을 정렬합니다.\n",
    "    \n",
    "\n",
    "    max = sorted_j[-1]\n",
    "    print(f\"#{i}\", max)"
   ]
  },
  {
   "cell_type": "code",
   "execution_count": 39,
   "metadata": {},
   "outputs": [
    {
     "name": "stdout",
     "output_type": "stream",
     "text": [
      "0: [0, 0, 2, 4, 7, 7, 9]\n",
      "1: [1, 1, 3, 8]\n",
      "2: [0]\n"
     ]
    }
   ],
   "source": [
    "n = int(input())\n",
    "\n",
    "for i in range(0,n):\n",
    "    j = map(int, input().split())\n",
    "    print(f\"{i}: {list(j)}\")"
   ]
  }
 ],
 "metadata": {
  "kernelspec": {
   "display_name": "Python 3",
   "language": "python",
   "name": "python3"
  },
  "language_info": {
   "codemirror_mode": {
    "name": "ipython",
    "version": 3
   },
   "file_extension": ".py",
   "mimetype": "text/x-python",
   "name": "python",
   "nbconvert_exporter": "python",
   "pygments_lexer": "ipython3",
   "version": "3.9.13"
  },
  "orig_nbformat": 4
 },
 "nbformat": 4,
 "nbformat_minor": 2
}
