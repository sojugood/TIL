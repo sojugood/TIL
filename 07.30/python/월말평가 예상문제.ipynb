{
 "cells": [
  {
   "cell_type": "code",
   "execution_count": 1,
   "metadata": {},
   "outputs": [],
   "source": [
    "# 예상문제1: 최대점수 반환하기\n",
    "# 전체 점수 중 최고점을 반환하는 함수 max_score를 작성하시오. (해당 문제는 파이썬 내장함수 max 사용 금지)\n",
    "def max_score(scores):\n",
    "    # 코드 작성\n",
    "    maximum = scores[0]\n",
    "    for score in scores[1:]:\n",
    "        if score > maximum:\n",
    "            maximum = score\n",
    "    return maximum\n"
   ]
  },
  {
   "cell_type": "code",
   "execution_count": null,
   "metadata": {},
   "outputs": [],
   "source": [
    "# 예상문제2: 특정 점수 이상의 과목 개수 계산\n",
    "# 전체 점수 중 80점 이상인 과목의 개수를 계산하는 함수 above_80를 완성하시오.\n",
    "def above_80(scores):\n",
    "    # 코드 작성\n",
    "    count = 0\n",
    "    for score in scores:\n",
    "        if score >= 80:\n",
    "            count += 1\n",
    "    return count"
   ]
  },
  {
   "cell_type": "code",
   "execution_count": 4,
   "metadata": {},
   "outputs": [
    {
     "name": "stdout",
     "output_type": "stream",
     "text": [
      "False\n"
     ]
    }
   ],
   "source": [
    "# 예상문제3: 아이디와 비밀번호의 길이 확인\n",
    "# 신규 아이디 생성 시 아이디와 비밀번호의 길이가 8자 이상이어야 한다. 사용자의 입력 정보인 user_data가 파이썬의 딕셔너리 형태로 들어온다고 할 때, 길이 조건을 만족하면 True, 그렇지 않으면 False를 반환하는 is_length_valid 함수를 완성하시오.\n",
    "def is_length_valid(user_data):\n",
    "    # 코드 작성\n",
    "    for k, v in user_data.items():\n",
    "        if len(v) < 8:\n",
    "            return False\n",
    "    return True\n",
    "\n",
    "\n",
    "user = {'id' : '12h3kh12l', 'pass' : 'k2kdnw'}\n",
    "\n",
    "print(is_length_valid(user))"
   ]
  },
  {
   "cell_type": "code",
   "execution_count": null,
   "metadata": {},
   "outputs": [],
   "source": [
    "# 예상문제4: 아이디 특정 문자 포함 확인\n",
    "# 신규 생성 아이디의 첫 글자는 반드시 알파벳 소문자 'a'로 시작해야한다. 사용자의 입력 정보인 user_data가 파이썬의 딕셔너리 형태로 들어온다고 할 때, 조건을 만족하면 True, 그렇지 않으면 False를 반환하는 is_id_start_with_a 함수를 완성하시오.\n",
    "def is_id_start_with_a(user_data):\n",
    "    # 코드 작성\n",
    "    if user_data['id'][0] == 'a':\n",
    "        return True\n",
    "    return False"
   ]
  },
  {
   "cell_type": "code",
   "execution_count": 11,
   "metadata": {},
   "outputs": [],
   "source": [
    "# 문자열 뒤집기\n",
    "def reverse_string(s):\n",
    "    reversed_s = ''\n",
    "    for i in range(len(s) - 1, -1, -1):\n",
    "        reversed_s += s[i]\n",
    "    return reversed_s\n",
    "\n",
    "def reverse_string(s):\n",
    "    reversed_string = ''\n",
    "    for char in s:\n",
    "        reversed_string = char + reversed_string\n",
    "    return reversed_string"
   ]
  },
  {
   "cell_type": "code",
   "execution_count": null,
   "metadata": {},
   "outputs": [],
   "source": [
    "# 리스트 중복 요소 제거\n",
    "def remove_duplicates(lst):\n",
    "    # 여기에 코드를 작성합니다.\n",
    "    unique_list = []\n",
    "    for item in lst:\n",
    "        if item not in unique_list:\n",
    "            unique_list.append(item)\n",
    "    return unique_list"
   ]
  },
  {
   "cell_type": "code",
   "execution_count": null,
   "metadata": {},
   "outputs": [],
   "source": [
    "# 문자열 단어 첫 글자 대문자로 변경\n",
    "def capitalize_first_letters(s):\n",
    "    # 여기에 코드를 작성합니다.\n",
    "    words = s.split()\n",
    "    capitalized_words = [word[0].upper() + word[1:] for word in words]\n",
    "    return ' '.join(capitalized_words)"
   ]
  },
  {
   "cell_type": "code",
   "execution_count": null,
   "metadata": {},
   "outputs": [],
   "source": [
    "# 홀수 모두 제거, 짝수만을 남게 하는 리스트 반환\n",
    "def keep_even_numbers(lst):\n",
    "    # 여기에 코드를 작성합니다.\n",
    "    even_numbers = [num for num in lst if num % 2 == 0]\n",
    "    return even_numbers"
   ]
  },
  {
   "cell_type": "code",
   "execution_count": null,
   "metadata": {},
   "outputs": [],
   "source": [
    "# 문자열에서 특정 문자의 개수를 세기\n",
    "def count_character(s, char):\n",
    "    # 여기에 코드를 작성합니다.\n",
    "    count = 0\n",
    "    for c in s:\n",
    "        if c == char:\n",
    "            count += 1\n",
    "    return count"
   ]
  },
  {
   "cell_type": "code",
   "execution_count": 1,
   "metadata": {},
   "outputs": [],
   "source": [
    "# 합집합\n",
    "def union(set1, set2):\n",
    "    result = set()\n",
    "    for element in set1:\n",
    "        result.add(element)\n",
    "    for element in set2:\n",
    "        result.add(element)\n",
    "    return result  # 결과는 set 형태로 반환됩니다."
   ]
  },
  {
   "cell_type": "code",
   "execution_count": null,
   "metadata": {},
   "outputs": [],
   "source": [
    "# 교집합\n",
    "def intersection(set1, set2):\n",
    "    result = set()\n",
    "    for element in set1:\n",
    "        if element in set2:\n",
    "            result.add(element)\n",
    "    return result"
   ]
  },
  {
   "cell_type": "code",
   "execution_count": null,
   "metadata": {},
   "outputs": [],
   "source": [
    "# 차집합\n",
    "def difference(set1, set2):\n",
    "    result = set(set1)  # set1을 복사하여 시작\n",
    "    for element in set2:\n",
    "        result.discard(element)  # set2의 원소를 제거\n",
    "    return result"
   ]
  },
  {
   "cell_type": "code",
   "execution_count": null,
   "metadata": {},
   "outputs": [],
   "source": [
    "def find_winner(votes):\n",
    "    max_votes = None\n",
    "    winners = []\n",
    "\n",
    "    for name, vote_count in votes.items():\n",
    "        if max_votes is None or vote_count > max_votes:\n",
    "            max_votes = vote_count\n",
    "            winners = [name]\n",
    "        elif vote_count == max_votes:\n",
    "            winners.append(name)\n",
    "\n",
    "    winner = winners[0]\n",
    "    for i in winners[1:]:\n",
    "        if i < winner:\n",
    "            winner = i\n",
    "    \n",
    "    return winner"
   ]
  }
 ],
 "metadata": {
  "kernelspec": {
   "display_name": "Python 3",
   "language": "python",
   "name": "python3"
  },
  "language_info": {
   "codemirror_mode": {
    "name": "ipython",
    "version": 3
   },
   "file_extension": ".py",
   "mimetype": "text/x-python",
   "name": "python",
   "nbconvert_exporter": "python",
   "pygments_lexer": "ipython3",
   "version": "3.11.4"
  },
  "orig_nbformat": 4
 },
 "nbformat": 4,
 "nbformat_minor": 2
}
