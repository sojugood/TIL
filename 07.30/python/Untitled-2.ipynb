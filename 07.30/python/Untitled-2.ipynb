{
 "cells": [
  {
   "cell_type": "code",
   "execution_count": 7,
   "metadata": {},
   "outputs": [
    {
     "name": "stdout",
     "output_type": "stream",
     "text": [
      "Hello, World! Hi\n"
     ]
    }
   ],
   "source": [
    "# 문자열 단어 첫 글자 대문자로 변경\n",
    "def capitalize_first_letters(s):\n",
    "    # 여기에 코드를 작성합니다.\n",
    "    words = s.split()\n",
    "    new_words = [word[0].upper() + word[1:] for word in words]\n",
    "    return ' '.join(new_words)\n",
    "\n",
    "s = \"hello, world! hi\"\n",
    "print(capitalize_first_letters(s))"
   ]
  },
  {
   "cell_type": "code",
   "execution_count": null,
   "metadata": {},
   "outputs": [],
   "source": [
    "# 문자열에서 특정 문자의 개수를 세기\n",
    "def count_character(s, char):\n",
    "    # 여기에 코드를 작성합니다.\n",
    "    count = 0\n",
    "    for i in s:\n",
    "        if i == 'a':\n",
    "            count += 1\n",
    "    return count"
   ]
  },
  {
   "cell_type": "code",
   "execution_count": null,
   "metadata": {},
   "outputs": [],
   "source": [
    "# 차집합\n",
    "def difference(set1, set2):\n",
    "    result = set(set1)"
   ]
  }
 ],
 "metadata": {
  "kernelspec": {
   "display_name": "Python 3",
   "language": "python",
   "name": "python3"
  },
  "language_info": {
   "codemirror_mode": {
    "name": "ipython",
    "version": 3
   },
   "file_extension": ".py",
   "mimetype": "text/x-python",
   "name": "python",
   "nbconvert_exporter": "python",
   "pygments_lexer": "ipython3",
   "version": "3.11.4"
  },
  "orig_nbformat": 4
 },
 "nbformat": 4,
 "nbformat_minor": 2
}
