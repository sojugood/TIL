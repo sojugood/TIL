{
 "cells": [
  {
   "cell_type": "code",
   "execution_count": 1,
   "metadata": {},
   "outputs": [
    {
     "data": {
      "text/plain": [
       "2"
      ]
     },
     "execution_count": 1,
     "metadata": {},
     "output_type": "execute_result"
    }
   ],
   "source": [
    "def select(arr, k):\n",
    "    for i in range(0, k):\n",
    "        minIdx = i\n",
    "        for j in range(i+1, len(arr)):\n",
    "            if arr[minIdx] > arr[j]:\n",
    "                minIdx = j\n",
    "        arr[i], arr[minIdx] = arr[minIdx], arr[i]\n",
    "    return arr[k-1]\n",
    "\n",
    "asd = [1, 2, 3, 4, 5, 6, 7]\n",
    "select(asd, 2)"
   ]
  },
  {
   "cell_type": "code",
   "execution_count": 19,
   "metadata": {},
   "outputs": [
    {
     "name": "stdout",
     "output_type": "stream",
     "text": [
      "11 1 10 2 9 3 8 4 6 5 "
     ]
    }
   ],
   "source": [
    "T = int(input())\n",
    "for tc in range(1, T + 1):\n",
    "    N = int(input())\n",
    "    nums = list(map(int, input().split()))\n",
    "    result = []\n",
    "    \n",
    "    for i in range(0, 5):\n",
    "        maxIdx = i\n",
    "        for j in range(i+1, len(nums)):\n",
    "            if nums[maxIdx] < nums[j]:\n",
    "                maxIdx = j\n",
    "        nums[i], nums[maxIdx] = nums[maxIdx], nums[i]\n",
    "        result.append(nums[i])\n",
    "    \n",
    "    for i in range(0, 5):\n",
    "        minIdx = i\n",
    "        for j in range(i+1, len(nums)):\n",
    "            if nums[minIdx] > nums[j]:\n",
    "                minIdx = j\n",
    "        nums[i], nums[minIdx] = nums[minIdx], nums[i]\n",
    "        result.append(nums[i])\n",
    "    \n",
    "    \n",
    "    for i in range(5):\n",
    "        print(f\"{result[i]} {result[i + 5]}\",end=' ')\n"
   ]
  },
  {
   "cell_type": "code",
   "execution_count": 20,
   "metadata": {},
   "outputs": [
    {
     "data": {
      "text/plain": [
       "[[0, 0, 0, 0], [0, 0, 0, 0], [0, 0, 0, 0], [0, 0, 0, 0]]"
      ]
     },
     "execution_count": 20,
     "metadata": {},
     "output_type": "execute_result"
    }
   ],
   "source": [
    "arr = [[0] * 4 for _ in range(4)]\n",
    "arr"
   ]
  },
  {
   "cell_type": "code",
   "execution_count": 22,
   "metadata": {},
   "outputs": [
    {
     "name": "stdout",
     "output_type": "stream",
     "text": [
      "0\n"
     ]
    }
   ],
   "source": [
    "for i in range(1):\n",
    "    print(i)"
   ]
  },
  {
   "cell_type": "code",
   "execution_count": null,
   "metadata": {},
   "outputs": [],
   "source": [
    "T = int(input())\n",
    "for tc in range(1, T+1):\n",
    "    N, K = map(int, input().split())\n",
    "    arr = [list(map(int, input().split())) + [0] for _ in range(N)]\n",
    "    arr += [[arr[j][i] for j in range(N)] + [0] for i in range(N)]\n",
    "    count = 0\n",
    "\n",
    "    for i in arr:\n",
    "        c = 0\n",
    "        for j in i:\n",
    "            if j == 1:\n",
    "                c += 1\n",
    "            else:\n",
    "                if c == K:\n",
    "                    count += 1\n",
    "                c = 0\n",
    "\n",
    "    print(f\"#{tc} {count}\")"
   ]
  },
  {
   "cell_type": "code",
   "execution_count": 1,
   "metadata": {},
   "outputs": [
    {
     "name": "stdout",
     "output_type": "stream",
     "text": [
      "1\n"
     ]
    }
   ],
   "source": [
    "N = 1\n",
    "num = 1\n",
    "arr = [[0] * N for _ in range(N)]\n",
    "\n",
    "for layer in range((N + 1) // 2):\n",
    "    # 위쪽 행 채우기\n",
    "    for i in range(layer, N - layer):\n",
    "        arr[layer][i] = num\n",
    "        num += 1\n",
    "\n",
    "    # 오른쪽 열 채우기\n",
    "    for i in range(layer + 1, N - layer):\n",
    "        arr[i][N - layer - 1] = num\n",
    "        num += 1\n",
    "\n",
    "    # 아래쪽 행 채우기\n",
    "    for i in range(N - layer - 2, layer - 1, -1):\n",
    "        arr[N - layer - 1][i] = num\n",
    "        num += 1\n",
    "\n",
    "    # 왼쪽 열 채우기\n",
    "    for i in range(N - layer - 2, layer, -1):\n",
    "        arr[i][layer] = num\n",
    "        num += 1\n",
    "\n",
    "for row in arr:\n",
    "    print(' '.join(map(str, row)))\n"
   ]
  }
 ],
 "metadata": {
  "kernelspec": {
   "display_name": "Python 3",
   "language": "python",
   "name": "python3"
  },
  "language_info": {
   "codemirror_mode": {
    "name": "ipython",
    "version": 3
   },
   "file_extension": ".py",
   "mimetype": "text/x-python",
   "name": "python",
   "nbconvert_exporter": "python",
   "pygments_lexer": "ipython3",
   "version": "3.9.13"
  },
  "orig_nbformat": 4
 },
 "nbformat": 4,
 "nbformat_minor": 2
}
