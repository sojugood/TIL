{
 "cells": [
  {
   "cell_type": "code",
   "execution_count": null,
   "metadata": {},
   "outputs": [],
   "source": [
    "def fill_clockwise(N):\n",
    "    arr = [[0] * N for _ in range(N)]\n",
    "    num = 1\n",
    "\n",
    "    for i in range(N):\n",
    "        arr[0][i] = num\n",
    "        num += 1\n",
    "\n",
    "    for i in range(1, N):\n",
    "        arr[i][N - 1] = num\n",
    "        num += 1\n",
    "\n",
    "    for i in range(N - 2, -1, -1):\n",
    "        arr[N - 1][i] = num\n",
    "        num += 1\n",
    "\n",
    "    for i in range(N - 2, 0, -1):\n",
    "        arr[i][0] = num\n",
    "        num += 1\n",
    "\n",
    "    return arr\n",
    "\n",
    "N = 5\n",
    "matrix = fill_clockwise(N)\n",
    "for row in matrix:\n",
    "    print(' '.join(map(str, row)))\n"
   ]
  }
 ],
 "metadata": {
  "kernelspec": {
   "display_name": "Python 3",
   "language": "python",
   "name": "python3"
  },
  "language_info": {
   "name": "python",
   "version": "3.9.13"
  },
  "orig_nbformat": 4
 },
 "nbformat": 4,
 "nbformat_minor": 2
}
