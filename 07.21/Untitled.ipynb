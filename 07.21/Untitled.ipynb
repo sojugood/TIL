{
 "cells": [
  {
   "cell_type": "code",
   "execution_count": 15,
   "id": "6552d6cd-c07a-41c9-9baf-6b9dacefff4e",
   "metadata": {},
   "outputs": [],
   "source": [
    "API_KEY = 'fa26b1ae7c0463ce2f913121f1983260'"
   ]
  },
  {
   "cell_type": "code",
   "execution_count": 26,
   "id": "ca220934-d268-44ce-b725-96367ffeaa8d",
   "metadata": {},
   "outputs": [],
   "source": [
    "city_name = 'Seoul,KR'\n",
    "url = f'https://api.openweathermap.org/data/2.5/weather?q={city_name}&appid={API_KEY}'"
   ]
  },
  {
   "cell_type": "code",
   "execution_count": 28,
   "id": "a711d711-17dc-4841-84e8-8e02afd2adf2",
   "metadata": {},
   "outputs": [
    {
     "data": {
      "text/plain": [
       "30.210000000000036"
      ]
     },
     "execution_count": 28,
     "metadata": {},
     "output_type": "execute_result"
    }
   ],
   "source": [
    "import requests\n",
    "# API 요청 보내기\n",
    "response = requests.get(url).json()\n",
    "temp = response['main']['temp']\n",
    "temp -= 273.15\n",
    "temp"
   ]
  },
  {
   "cell_type": "code",
   "execution_count": 32,
   "id": "758e33c3-75e7-4859-95ee-09251b99579e",
   "metadata": {},
   "outputs": [
    {
     "data": {
      "text/plain": [
       "dict"
      ]
     },
     "execution_count": 32,
     "metadata": {},
     "output_type": "execute_result"
    }
   ],
   "source": [
    "type(response)"
   ]
  },
  {
   "cell_type": "code",
   "execution_count": null,
   "id": "46d200a6-5e21-421c-a176-99c72f6e6284",
   "metadata": {},
   "outputs": [],
   "source": []
  }
 ],
 "metadata": {
  "kernelspec": {
   "display_name": "Python 3 (ipykernel)",
   "language": "python",
   "name": "python3"
  },
  "language_info": {
   "codemirror_mode": {
    "name": "ipython",
    "version": 3
   },
   "file_extension": ".py",
   "mimetype": "text/x-python",
   "name": "python",
   "nbconvert_exporter": "python",
   "pygments_lexer": "ipython3",
   "version": "3.9.13"
  }
 },
 "nbformat": 4,
 "nbformat_minor": 5
}
