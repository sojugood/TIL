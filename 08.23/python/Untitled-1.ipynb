{
 "cells": [
  {
   "cell_type": "code",
   "execution_count": null,
   "metadata": {},
   "outputs": [],
   "source": [
    "T = int(input())\n",
    "\n",
    "for tc in range(1, T + 1):\n",
    "    N = int(input())\n",
    "    time_lst = [0]\n",
    "    connect = [[] for _ in range(N + 1)]\n",
    "    res_lst = [[] for _ in range(N + 1)]\n",
    "    check = N\n",
    "    work = []\n",
    "    time = []\n",
    "    flag = 1\n",
    "    result = 0\n",
    "    for i in range(N):\n",
    "        info = list(map(int, input().split()))\n",
    "        time_lst.append(info[0])\n",
    "        if info[1] == 0:\n",
    "            res_lst[i + 1].append(info[0])\n",
    "            continue\n",
    "        else:\n",
    "            for j in range(2, len(info)):\n",
    "                connect[i + 1].append(info[j])\n",
    "    while check > 0:\n",
    "        work = []\n",
    "        for k in range(1, N + 1):\n",
    "            if not connect[k]:\n",
    "                connect[k].append(-1)\n",
    "                work.append(time_lst[k])\n",
    "                check -= 1\n",
    "                for l in range(1, N + 1):\n",
    "                    if k in connect[l]:\n",
    "                        connect[l].remove(k)\n",
    "        if not work:\n",
    "            flag = 0\n",
    "            result = -1\n",
    "            break\n",
    "        time.append(max(work))\n",
    "    if flag:\n",
    "        time.sort()\n",
    "        time[-1] = time[-1] // 2\n",
    "        result = sum(time)\n",
    "    print(result)"
   ]
  }
 ],
 "metadata": {
  "kernelspec": {
   "display_name": "Python 3",
   "language": "python",
   "name": "python3"
  },
  "language_info": {
   "name": "python",
   "version": "3.9.13"
  },
  "orig_nbformat": 4
 },
 "nbformat": 4,
 "nbformat_minor": 2
}
