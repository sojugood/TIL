{
 "cells": [
  {
   "cell_type": "code",
   "execution_count": 1,
   "metadata": {},
   "outputs": [
    {
     "name": "stdout",
     "output_type": "stream",
     "text": [
      "[['a', 's', 'd', 's', 'a', 'd', 'a', 's', 'd'], ['a', 's', 'd', 'a', 's', 'd', 'a', 's', 'd', 'a'], ['a', 's', 'd', 'a', 's', 'd', 'a', 's', 'd'], ['a', 's', 'd', 'a', 's', 'd', 'a', 's', 'd'], ['a', 's', 'd', 'a', 's', 'd', 'a', 's'], ['a', 's', 'd', 'a', 's', 'd'], ['a', 's', 'd', 'a', 's', 'd'], ['a', 's', 'd', 'a', 's', 'd', 'a']]\n"
     ]
    }
   ],
   "source": [
    "arr = [list(input()) for _ in range(8)]\n",
    "print(arr)"
   ]
  },
  {
   "cell_type": "code",
   "execution_count": 3,
   "metadata": {},
   "outputs": [
    {
     "data": {
      "text/plain": [
       "[40, 45, 454, 454]"
      ]
     },
     "execution_count": 3,
     "metadata": {},
     "output_type": "execute_result"
    }
   ],
   "source": [
    "lst = [int(input()) for _ in range(4)]\n",
    "lst"
   ]
  },
  {
   "cell_type": "code",
   "execution_count": 7,
   "metadata": {},
   "outputs": [
    {
     "name": "stdout",
     "output_type": "stream",
     "text": [
      "#1 1\n",
      "#2 0\n",
      "#3 1\n"
     ]
    }
   ],
   "source": [
    "j=input\n",
    "for t in range(int(j())):s=j();print(f\"#{t+1}\",1 if s==s[::-1]else 0)"
   ]
  },
  {
   "cell_type": "code",
   "execution_count": 6,
   "metadata": {},
   "outputs": [
    {
     "ename": "AttributeError",
     "evalue": "'str' object has no attribute '__reversed__'",
     "output_type": "error",
     "traceback": [
      "\u001b[1;31m---------------------------------------------------------------------------\u001b[0m",
      "\u001b[1;31mAttributeError\u001b[0m                            Traceback (most recent call last)",
      "Cell \u001b[1;32mIn[6], line 2\u001b[0m\n\u001b[0;32m      1\u001b[0m a \u001b[39m=\u001b[39m \u001b[39m'\u001b[39m\u001b[39masdadasdas\u001b[39m\u001b[39m'\u001b[39m\n\u001b[1;32m----> 2\u001b[0m b \u001b[39m=\u001b[39m a\u001b[39m.\u001b[39;49m\u001b[39m__reversed__\u001b[39;49m\n\u001b[0;32m      3\u001b[0m b\n",
      "\u001b[1;31mAttributeError\u001b[0m: 'str' object has no attribute '__reversed__'"
     ]
    }
   ],
   "source": [
    "a = 'asdadasdas'\n",
    "b = a.__reversed__\n",
    "b"
   ]
  },
  {
   "cell_type": "code",
   "execution_count": 8,
   "metadata": {},
   "outputs": [
    {
     "data": {
      "text/plain": [
       "[0, 1, 2, 3, 4, 5, 6, 7, 8, 9]"
      ]
     },
     "execution_count": 8,
     "metadata": {},
     "output_type": "execute_result"
    }
   ],
   "source": [
    "a = list(range(10))\n",
    "a"
   ]
  },
  {
   "cell_type": "code",
   "execution_count": 9,
   "metadata": {},
   "outputs": [
    {
     "name": "stdout",
     "output_type": "stream",
     "text": [
      "3\n"
     ]
    }
   ],
   "source": [
    "N = 0\n",
    "while N < 3:\n",
    "    N += 1\n",
    "\n",
    "print(N)"
   ]
  },
  {
   "cell_type": "code",
   "execution_count": null,
   "metadata": {},
   "outputs": [],
   "source": [
    "v,d=input,range\n",
    "b=[\"ZRO\",\"ONE\",\"TWO\",\"THR\",\"FOR\",\"FIV\",\"SIX\",\"SVN\",\"EGT\",\"NIN\"]\n",
    "for _ in d(int(v())):\n",
    "    c,l=map(str,v().split())\n",
    "    N=v().split()\n",
    "    t=[0]*10\n",
    "    r=[]\n",
    "    for i in d(int(l)):\n",
    "        for j in d(10):\n",
    "            if N[i]==b[j]:\n",
    "                t[j]+=1\n",
    "    for k in d(10):\n",
    "        for _ in d(t[k]):\n",
    "            r.append(b[k])\n",
    "    print(c + \"\\n\" + ' '.join(r))"
   ]
  },
  {
   "cell_type": "code",
   "execution_count": null,
   "metadata": {},
   "outputs": [],
   "source": [
    "from collections import Counter as C\n",
    "v,d,p,b=input,range,print,[\"ZRO\",\"ONE\",\"TWO\",\"THR\",\"FOR\",\"FIV\",\"SIX\",\"SVN\",\"EGT\",\"NIN\"]\n",
    "for _ in d(int(v())):c,l=map(str,v().split());N=C(v().split());r=[w for w in b for _ in d(N[w])];p(c);p(*r)"
   ]
  },
  {
   "cell_type": "code",
   "execution_count": 10,
   "metadata": {},
   "outputs": [
    {
     "name": "stdout",
     "output_type": "stream",
     "text": [
      "#0 1\n",
      "#1 0\n",
      "#2 1\n"
     ]
    }
   ],
   "source": [
    "i=input\n",
    "for t in range(int(i())):print(f\"#{t+1}\",1 if i() in i()else 0)\n"
   ]
  },
  {
   "cell_type": "code",
   "execution_count": null,
   "metadata": {},
   "outputs": [],
   "source": [
    "for tc in range(1, 11):\n",
    "    N = int(input())\n",
    "    arr = [input() for _ in range(8)]\n",
    "    count = 0\n",
    "    for i in range(8 - N + 1):\n",
    "        for j in range(8):\n",
    "            word_1 = arr[j][i:i+N]\n",
    "            word_2 = ''.join(arr[k][i] for k in range(j, j + N))\n",
    "            if word_1 == word_1[::-1] or word_2 == word_2[::-1]:\n",
    "                count += 1\n",
    "    print(f\"#{tc} {count}\")"
   ]
  },
  {
   "cell_type": "code",
   "execution_count": 14,
   "metadata": {},
   "outputs": [
    {
     "data": {
      "text/plain": [
       "'bc'"
      ]
     },
     "execution_count": 14,
     "metadata": {},
     "output_type": "execute_result"
    }
   ],
   "source": [
    "arr = 'abcdefasdas'\n",
    "\n",
    "arr[0:3]\n"
   ]
  }
 ],
 "metadata": {
  "kernelspec": {
   "display_name": "Python 3",
   "language": "python",
   "name": "python3"
  },
  "language_info": {
   "codemirror_mode": {
    "name": "ipython",
    "version": 3
   },
   "file_extension": ".py",
   "mimetype": "text/x-python",
   "name": "python",
   "nbconvert_exporter": "python",
   "pygments_lexer": "ipython3",
   "version": "3.9.13"
  },
  "orig_nbformat": 4
 },
 "nbformat": 4,
 "nbformat_minor": 2
}
