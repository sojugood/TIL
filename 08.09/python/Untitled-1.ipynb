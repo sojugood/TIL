{
 "cells": [
  {
   "cell_type": "code",
   "execution_count": 4,
   "metadata": {},
   "outputs": [
    {
     "name": "stdout",
     "output_type": "stream",
     "text": [
      "(((1, 0, 1), 1, (1, 0, 1)), (1, 0, 1), ((1, 0, 1), 1, (1, 0, 1)))\n"
     ]
    }
   ],
   "source": [
    "def fibo(n):\n",
    "    if n < 2:\n",
    "        return n\n",
    "    else:\n",
    "        return fibo(n - 1), fibo(n - 2), fibo(n - 1)\n",
    "\n",
    "T= int(input())\n",
    "for tc in range(1, T + 1):\n",
    "    N = int(input())\n",
    "    print(fibo(N))"
   ]
  },
  {
   "cell_type": "code",
   "execution_count": null,
   "metadata": {},
   "outputs": [],
   "source": [
    "sta = ['(', '{']\n",
    "s = sta.pop()\n",
    "d = '}'\n",
    "s + d == '{}'\n",
    "f = sta.pop()\n",
    "len(sta)"
   ]
  },
  {
   "cell_type": "code",
   "execution_count": 5,
   "metadata": {},
   "outputs": [
    {
     "name": "stdout",
     "output_type": "stream",
     "text": [
      "1\n",
      "1 1\n",
      "1 2 1\n",
      "1 3 3 1\n"
     ]
    }
   ],
   "source": [
    "def pascals_triangle(n):\n",
    "    triangle = [[1]]\n",
    "\n",
    "    for i in range(1, n):\n",
    "        last_row = triangle[-1]\n",
    "        new_row = [1] + [last_row[j] + last_row[j + 1] for j in range(len(last_row) - 1)] + [1]\n",
    "        triangle.append(new_row)\n",
    "\n",
    "    return triangle\n",
    "\n",
    "n = int(input())\n",
    "\n",
    "for row in pascals_triangle(n):\n",
    "    print(*row)\n"
   ]
  },
  {
   "cell_type": "code",
   "execution_count": 6,
   "metadata": {},
   "outputs": [
    {
     "name": "stdout",
     "output_type": "stream",
     "text": [
      "1\n",
      "1 1\n",
      "1 2 1\n",
      "1 3 3 1\n"
     ]
    }
   ],
   "source": [
    "n = int(input())\n",
    "\n",
    "triangle = [[1]]\n",
    "\n",
    "for i in range(1, n):\n",
    "    row = [1]\n",
    "    for j in range(1, i):\n",
    "        row.append(triangle[i-1][j-1] + triangle[i-1][j])\n",
    "    row.append(1)\n",
    "    triangle.append(row)\n",
    "\n",
    "for row in triangle:\n",
    "    print(*row)\n"
   ]
  },
  {
   "cell_type": "code",
   "execution_count": null,
   "metadata": {},
   "outputs": [],
   "source": [
    "T = int(input())\n",
    "for tc in range(1, T + 1):\n",
    "    N = int(input())\n",
    "    triangle = [[1]]\n",
    "    for i in range(1, N):\n",
    "        row = [1]\n",
    "        for j in range(1, i):\n",
    "            row.append(triangle[i-1][j-1] + triangle[i-1][j])\n",
    "        row.append(1)\n",
    "        triangle.append(row)\n",
    "    for k in triangle:\n",
    "        print(*k)"
   ]
  },
  {
   "cell_type": "code",
   "execution_count": null,
   "metadata": {},
   "outputs": [],
   "source": [
    "a,b,c,d,e=int,input,range,list.append,print\n",
    "f=a(b())\n",
    "for x in c(f):\n",
    "    N=a(b())\n",
    "    t=[[1]]\n",
    "    for i in c(1, N):\n",
    "        r=[1]\n",
    "        for j in c(1, i):d(r,t[i-1][j-1] + t[i-1][j])\n",
    "        d(r,1);d(t,r)\n",
    "    e(f\"#{x+1}\")\n",
    "    for k in t:e(*k)"
   ]
  },
  {
   "cell_type": "code",
   "execution_count": null,
   "metadata": {},
   "outputs": [],
   "source": [
    "a,b,c,d=int,input,range,print\n",
    "for x in c(a(b())):\n",
    "    n=a(b());t=[[1]]\n",
    "    for _ in c(1,n):t+=[[1]+[t[-1][i]+t[-1][i+1]for i in c(len(t[-1])-1)]+[1]]\n",
    "    d(f\"#{x+1}\")\n",
    "    for k in t:d(*k)\n"
   ]
  },
  {
   "cell_type": "code",
   "execution_count": null,
   "metadata": {},
   "outputs": [],
   "source": [
    "a,b,c,d,e=int,input,range,list.append,print\n",
    "f=a(b())\n",
    "for x in c(f):\n",
    "    n=a(b());t=[[1]]\n",
    "    for _ in c(1,n):r=[1];[d(r,t[-1][i]+t[-1][i+1]) for i in c(len(t[-1])-1)];d(r,1);d(t,r)\n",
    "    e(f\"#{x+1}\")\n",
    "    for k in t:e(*k)\n"
   ]
  },
  {
   "cell_type": "code",
   "execution_count": null,
   "metadata": {},
   "outputs": [],
   "source": [
    "a,b,c,d=int,input,range,print\n",
    "for x in c(a(b())):\n",
    "    n=a(b());t=[[1]]\n",
    "    for _ in c(1,n):t+=[[1]+[t[-1][i]+t[-1][i+1]for i in c(len(t[-1])-1)]+[1]]\n",
    "    d(f\"#{x+1}\");[d(*k) for k in t]"
   ]
  },
  {
   "cell_type": "code",
   "execution_count": null,
   "metadata": {},
   "outputs": [],
   "source": [
    "a,b,c,d=int,input,range,print\n",
    "for x in c(a(b())):\n",
    "    n,t=a(b()),[[1]]\n",
    "    for _ in c(n-1):t+=[[1]+[t[-1][i]+t[-1][i+1]for i in c(_)]+[1]]\n",
    "    d(f\"#{x+1}\");[d(*k)for k in t]"
   ]
  },
  {
   "cell_type": "code",
   "execution_count": null,
   "metadata": {},
   "outputs": [],
   "source": [
    "a,b,c,d=int,input,range,print\n",
    "for x in c(a(b())):\n",
    " n,t=a(b()),[[1]]\n",
    " for _ in c(n-1):t+=[[1]+[t[-1][i]+t[-1][i+1]for i in c(_)]+[1]]\n",
    " d(f\"#{x+1}\")\n",
    " [d(*k)for k in t]"
   ]
  },
  {
   "cell_type": "code",
   "execution_count": null,
   "metadata": {},
   "outputs": [],
   "source": [
    "a,b,c,d=int,input,range,print\n",
    "for x in c(a(b())):\n",
    "    n=a(b())\n",
    "    t=[[1]]\n",
    "    for _ in c(n-1):\n",
    "        t += [[1] + [t[-1][i] + t[-1][i+1] for i in c(_)] + [1]]\n",
    "    d(f\"#{x+1}\")\n",
    "    [d(*k) for k in t]"
   ]
  },
  {
   "cell_type": "code",
   "execution_count": null,
   "metadata": {},
   "outputs": [],
   "source": [
    "a,b,c,d=int,input,range,print\n",
    "for x in c(a(b())):n=a(b());t=[[1]];[t.append([1]+[t[-1][i]+t[-1][i+1]for i in c(_)]+[1])for _ in c(n-1)];d(f\"#{x+1}\");[d(*k)for k in t]"
   ]
  },
  {
   "cell_type": "code",
   "execution_count": null,
   "metadata": {},
   "outputs": [],
   "source": [
    "T = int(input())\n",
    "for tc in range(1, T + 1):\n",
    "    word = input()\n",
    "    stack = []\n",
    "    for i in word:\n",
    "        if stack:\n",
    "            if i == stack[-1]:\n",
    "                stack.pop()\n",
    "            else:\n",
    "                stack.append(i)\n",
    "        else:\n",
    "            stack.append(i)\n",
    "    print(f\"#{tc} {len(stack)}\")"
   ]
  },
  {
   "cell_type": "code",
   "execution_count": null,
   "metadata": {},
   "outputs": [],
   "source": [
    "for tc in range(1, 11):\n",
    "    N, word = map(str, input().split())\n",
    "    stack = []\n",
    "    for i in word:\n",
    "        if stack:\n",
    "            if i == stack[-1]:\n",
    "                stack.pop()\n",
    "            else:\n",
    "                stack.append(i)\n",
    "        else:\n",
    "            stack.append(i)\n",
    "    print(f\"#{tc}\",''.join(map(str, stack)))"
   ]
  },
  {
   "cell_type": "code",
   "execution_count": null,
   "metadata": {},
   "outputs": [],
   "source": [
    "def game(x, y, count, board):\n",
    "    global catched_set\n",
    "    if count == 0:\n",
    "        return\n",
    "\n",
    "    directions = [(1, 0), (-1, 0), (0, 1), (0, -1)]\n",
    "    for dx, dy in directions:\n",
    "        # k = 0\n",
    "        # nx, ny = x + dx*k, y + dy*k\n",
    "        while True:  # 해당 방향으로 진행\n",
    "            # k += 1\n",
    "            if 0 <= nx < len(board) and 0 <= ny < len(board) and board[nx][ny] == 1:  # 졸(1) 발견\n",
    "                nx_jump, ny_jump = nx + dx, ny + dy\n",
    "                if 0 <= nx_jump < len(board) and 0 <= ny_jump < len(board) and board[nx_jump][ny_jump] == 1:  # 뛰어넘을 수 있는 공간 확인\n",
    "                    catched_set.add((nx, ny))\n",
    "                    board[nx][ny] = 0\n",
    "                    game(nx_jump, ny_jump, count - 1, board)  # 뛰어넘은 위치에서 재귀 호출\n",
    "                    board[nx][ny] = 1  # 원상복귀\n",
    "                    break\n",
    "                elif 0 <= nx_jump < len(board) and 0 <= ny_jump < len(board) and board[nx_jump][ny_jump] == 0:\n",
    "                    game(nx_jump, ny_jump, count - 1, board)\n",
    "            nx, ny = nx + dx, ny + dy\n",
    "\n",
    "T = int(input())\n",
    "for tc in range(1, T + 1):\n",
    "    N = int(input())\n",
    "    arr = [list(map(int, input().split())) for _ in range(N)]\n",
    "    x, y = None, None\n",
    "    for i in range(N):\n",
    "        for j in range(N):\n",
    "            if arr[i][j] == 2:\n",
    "                x, y = i, j\n",
    "                break\n",
    "        if x is not None:\n",
    "            break\n",
    "\n",
    "    arr[x][y] = 0  # 포의 초기 위치를 빈 칸으로 설정\n",
    "    catched_set = set()\n",
    "    game(x, y, 3, arr)\n",
    "    result = len(catched_set)\n",
    "    print(f\"#{tc} {result}\")\n"
   ]
  },
  {
   "cell_type": "code",
   "execution_count": null,
   "metadata": {},
   "outputs": [],
   "source": [
    "import sys\n",
    "input = sys.stdin.readline\n",
    "N = int(input())\n",
    "if N == 0:\n",
    "    print(0)\n",
    "else:\n",
    "    score_list = []\n",
    "    for _ in range(N):\n",
    "        n = int(input())\n",
    "        score_list.append(n)\n",
    "\n",
    "    def rounding(n): return int(n) + 1 if n - int(n) >= 0.5 else int(n)\n",
    "\n",
    "    delete = rounding(N * 0.15)\n",
    "    score_list.sort()\n",
    "    score_list = score_list[delete:-delete] if delete != 0 else score_list\n",
    "\n",
    "    result = rounding(sum(score_list) / len(score_list))\n",
    "    print(result)"
   ]
  },
  {
   "cell_type": "code",
   "execution_count": 12,
   "metadata": {},
   "outputs": [
    {
     "data": {
      "text/plain": [
       "0.5"
      ]
     },
     "execution_count": 12,
     "metadata": {},
     "output_type": "execute_result"
    }
   ],
   "source": [
    "1.5 - int(1.5)"
   ]
  },
  {
   "cell_type": "code",
   "execution_count": null,
   "metadata": {},
   "outputs": [],
   "source": [
    "a,s,r=input,[],1\n",
    "for t in range(int(a())):\n",
    " for i in a():\n",
    "  if i in'{(':s+=[i]\n",
    "  elif not s or s.pop()+i not in['{}','()']:r=0;break\n",
    " if s:r=0\n",
    " print(f\"#{t+1}\",r)"
   ]
  },
  {
   "cell_type": "code",
   "execution_count": null,
   "metadata": {},
   "outputs": [],
   "source": [
    "a,s,r=input,[],1\n",
    "for t in range(int(a())):\n",
    " for i in a():\n",
    "  if i in'{(':s+=[i]\n",
    "  elif not s or s.pop()+i not in['{}','()']:r=0;break\n",
    " if s:r=0\n",
    " print(f\"#{t+1}\",r)"
   ]
  },
  {
   "cell_type": "code",
   "execution_count": null,
   "metadata": {},
   "outputs": [],
   "source": [
    "for t in range(1, int(input()) + 1):\n",
    "    s, r = [], 1\n",
    "    for i in input():\n",
    "        if i in '{(': s.append(i)\n",
    "        elif not s or s.pop() + i not in ['{}', '()']: r = 0; break\n",
    "    print(f\"#{t}\", 0 if s else r)\n"
   ]
  },
  {
   "cell_type": "code",
   "execution_count": null,
   "metadata": {},
   "outputs": [],
   "source": [
    "g,I,R=\"(){}[]\",input,range\n",
    "for m in R(int(I())):\n",
    " s=''.join(i for i in I()if i in g)\n",
    " for _ in g:s=s.replace(\"()\",\"\").replace(\"{}\",\"\").replace(\"[]\",\"\")\n",
    " print(f'#{m+1}',int(s==''))\n"
   ]
  },
  {
   "cell_type": "code",
   "execution_count": null,
   "metadata": {},
   "outputs": [],
   "source": [
    "g,I,R=\"(){}[]\",input,range\n",
    "for m in R(int(I())):\n",
    " s=''.join(i for i in I()if i in g)\n",
    " for i in R(50):s=s.replace(g[i%3*2:i%3*2+2],'')\n",
    " print(f'#{m+1}',int(s==''))"
   ]
  },
  {
   "cell_type": "code",
   "execution_count": null,
   "metadata": {},
   "outputs": [],
   "source": [
    "I=input\n",
    "for _ in range(int(I())):\n",
    " s=I()\n",
    " while '{}' in s or '()' in s or '[]' in s: s=s.replace('{}','').replace('()','').replace('[]','')\n",
    " print(f'#{_+1}',int(not s))\n"
   ]
  },
  {
   "cell_type": "code",
   "execution_count": null,
   "metadata": {},
   "outputs": [],
   "source": [
    "I=input\n",
    "for t in range(int(I())):\n",
    " s,r=[],1\n",
    " for c in I():\n",
    "  if c in'{(':s+=[c]\n",
    "  elif c in'})'and(not s or s.pop()+c not in['{}','()']):r=0;break\n",
    " print(f'#{t+1}',r*(not s))"
   ]
  },
  {
   "cell_type": "code",
   "execution_count": null,
   "metadata": {},
   "outputs": [],
   "source": [
    "T = int(input())\n",
    "for tc in range(1, T + 1):\n",
    "    E = input()\n",
    "    word = ''\n",
    "    count = 0\n",
    "    temp = 0\n",
    "    for i in E:\n",
    "        if i == '(':\n",
    "            temp += 1\n",
    "            word = i\n",
    "        else:\n",
    "            if word == i:\n",
    "                count += 1\n",
    "                temp -= 1\n",
    "                word = i\n",
    "            else:\n",
    "                temp -= 1\n",
    "                count += temp\n",
    "                word = i\n",
    "    print(f\"#{tc} {count}\")\n"
   ]
  }
 ],
 "metadata": {
  "kernelspec": {
   "display_name": "Python 3",
   "language": "python",
   "name": "python3"
  },
  "language_info": {
   "codemirror_mode": {
    "name": "ipython",
    "version": 3
   },
   "file_extension": ".py",
   "mimetype": "text/x-python",
   "name": "python",
   "nbconvert_exporter": "python",
   "pygments_lexer": "ipython3",
   "version": "3.9.13"
  },
  "orig_nbformat": 4
 },
 "nbformat": 4,
 "nbformat_minor": 2
}
